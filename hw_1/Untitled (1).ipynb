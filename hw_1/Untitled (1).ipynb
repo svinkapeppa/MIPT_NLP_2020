{
 "cells": [
  {
   "cell_type": "code",
   "execution_count": 36,
   "metadata": {},
   "outputs": [],
   "source": [
    "import os\n",
    "import re\n",
    "\n",
    "from collections import defaultdict\n",
    "from multiprocessing import Pool\n",
    "\n",
    "# Only version 0.8.4 was working\n",
    "import fasttext\n",
    "import pandas as pd\n",
    "\n",
    "from bokeh.models import ColumnDataSource, LabelSet\n",
    "from bokeh.plotting import figure, show\n",
    "from bokeh.io import output_notebook\n",
    "from gensim.models import word2vec\n",
    "from nltk import FreqDist\n",
    "from nltk.corpus import stopwords\n",
    "from nltk.tokenize import sent_tokenize\n",
    "from nltk.corpus import wordnet as wn\n",
    "from sklearn.manifold import TSNE\n",
    "from sklearn.metrics import f1_score\n",
    "from tqdm.notebook import tqdm"
   ]
  },
  {
   "cell_type": "markdown",
   "metadata": {},
   "source": [
    "# Часть 1. Эксплоративный анализ"
   ]
  },
  {
   "cell_type": "code",
   "execution_count": 2,
   "metadata": {},
   "outputs": [
    {
     "data": {
      "application/vnd.jupyter.widget-view+json": {
       "model_id": "c1a0ca72432941a7b500b0640c759be9",
       "version_major": 2,
       "version_minor": 0
      },
      "text/plain": [
       "HBox(children=(FloatProgress(value=0.0, max=36225.0), HTML(value='')))"
      ]
     },
     "metadata": {},
     "output_type": "display_data"
    },
    {
     "name": "stdout",
     "output_type": "stream",
     "text": [
      "\n"
     ]
    }
   ],
   "source": [
    "# Prepare data in a convinient way\n",
    "# Remove punctuation, stop words and tokenize text\n",
    "stop_words = stopwords.words(\"english\")\n",
    "directory = \"/mnt/hdd1/users/svinkapeppa/hpac/data/raw/\"\n",
    "files = os.listdir(directory)\n",
    "\n",
    "def prepare_file(file):\n",
    "    output = []\n",
    "    text = \" \".join([line.lower().strip() for line in open(directory + file)])\n",
    "    sentences = sent_tokenize(text)\n",
    "\n",
    "    for sentence in sentences:\n",
    "        sentence = re.sub(\"\\W+\", \" \", sentence)\n",
    "        words = [word for word in sentence.strip().split() if word not in stop_words]\n",
    "        # Filter short sentences \n",
    "        if len(words) > 5:\n",
    "            output.append(words)\n",
    "    \n",
    "    return output\n",
    "\n",
    "with Pool(32) as p:\n",
    "    tmp = list(tqdm(p.imap(prepare_file, files, chunksize=64), total=len(files)))\n",
    "\n",
    "corpus = []\n",
    "for item in tmp:\n",
    "    corpus.extend(item)"
   ]
  },
  {
   "cell_type": "code",
   "execution_count": 3,
   "metadata": {},
   "outputs": [
    {
     "data": {
      "application/vnd.jupyter.widget-view+json": {
       "model_id": "9a4d0a9ff4844f84b770e034addb5a7e",
       "version_major": 2,
       "version_minor": 0
      },
      "text/plain": [
       "HBox(children=(FloatProgress(value=0.0, max=17851512.0), HTML(value='')))"
      ]
     },
     "metadata": {},
     "output_type": "display_data"
    },
    {
     "name": "stdout",
     "output_type": "stream",
     "text": [
      "\n",
      "harry     \t   2773647\n",
      "would     \t   1304198\n",
      "said      \t   1282477\n",
      "hermione  \t   1234058\n",
      "back      \t   1110646\n",
      "one       \t   1094274\n",
      "could     \t   1031157\n",
      "draco     \t    965109\n",
      "like      \t    912531\n",
      "eyes      \t    787413\n"
     ]
    }
   ],
   "source": [
    "# Top-1000 frequent words\n",
    "fd = FreqDist()\n",
    "for sentence in tqdm(corpus):\n",
    "    fd.update(sentence)\n",
    "\n",
    "top1000frequent = [(w[0], w[1]) for w in fd.most_common(1000)]\n",
    "\n",
    "for w in top1000frequent[:10]:\n",
    "    print(f\"{w[0]:10s}\\t{w[1]:10d}\")"
   ]
  },
  {
   "cell_type": "code",
   "execution_count": 4,
   "metadata": {},
   "outputs": [
    {
     "name": "stdout",
     "output_type": "stream",
     "text": [
      "harry     \t   2773647\n",
      "hermione  \t   1234058\n",
      "draco     \t    965109\n",
      "severus   \t    452058\n",
      "sirius    \t    425183\n",
      "james     \t    314041\n",
      "remus     \t    292968\n",
      "lily      \t    281883\n",
      "neville   \t    153732\n",
      "lucius    \t    149016\n"
     ]
    }
   ],
   "source": [
    "# Top-10 frequent names\n",
    "# Tried to use SpaCy -- the wait was too long (53 hours)\n",
    "# Using brute force approach: download list of HP names from here https://nameberry.com/userlist/view/42943\n",
    "names = [\n",
    "    \"Abraxas\", \"Albus\", \"Alice\", \"Ambrosius\", \"Amelia\", \"Amos\", \"Andromeda\", \"Angelina\",\n",
    "    \"Arabella\", \"Argus\", \"Ariana\", \"Arthur\", \"Alastor\", \"Alecto\", \"Amycus\", \"Bellatrix\",\n",
    "    \"Bill\", \"Blaise\", \"Burke\", \"Cassandra\", \"Cedric\", \"Charlie\", \"Colin\", \"Cormac\",\n",
    "    \"Cornelius\", \"Dean\", \"Draco\", \"Dudley\", \"Elphias\", \"Fleur\", \"Florean\", \"Fred\",\n",
    "    \"Fawkes\", \"Filius\", \"Gabrielle\", \"George\", \"Ginevra\", \"Gryffin\", \"Gilderoy\",\n",
    "    \"Hannah\", \"Harry\", \"Hepzibah\", \"Hermione\", \"Hestia\", \"Horace\", \"Hugo\", \"James\",\n",
    "    \"Katie\", \"Kingsley\", \"Lavender\", \"Lily\", \"Lucius\", \"Ludo\", \"Luna\", \"Marietta\",\n",
    "    \"Millicent\", \"Minerva\", \"Molly\", \"Myrtle\", \"Merope\", \"Narcissa\", \"Neville\",\n",
    "    \"Nicolas\", \"Nymphadora\", \"Oliver\", \"Orion\", \"Padma\", \"Parvati\", \"Penelope\", \"Percy\",\n",
    "    \"Petunia\", \"Phineas\", \"Pomona\", \"Poppy\", \"Perenelle\", \"Raven\", \"Remus\", \"Rita\",\n",
    "    \"Romilda\", \"Ronald\", \"Ronan\", \"Rose\", \"Rowena\", \"Rufus\", \"Rosmerta\", \"Rubeus\",\n",
    "    \"Severus\", \"Sirius\", \"Sybill\", \"Teddy\", \"Trevor\", \"Viktor\", \"Wilhelmina\", \"Zacharias\",\n",
    "]\n",
    "names = \" \".join(names).lower().split()\n",
    "\n",
    "top10names = []\n",
    "for w in top1000frequent:\n",
    "    if len(top10names) == 10:\n",
    "        break\n",
    "    if w[0] in names:\n",
    "        top10names.append(w)\n",
    "\n",
    "assert len(top10names) == 10\n",
    "for w in top10names:\n",
    "    print(f\"{w[0]:10s}\\t{w[1]:10d}\")"
   ]
  },
  {
   "cell_type": "code",
   "execution_count": 5,
   "metadata": {},
   "outputs": [
    {
     "data": {
      "application/vnd.jupyter.widget-view+json": {
       "model_id": "992fa6a1bf63492b8a5f33f4024d239a",
       "version_major": 2,
       "version_minor": 0
      },
      "text/plain": [
       "HBox(children=(FloatProgress(value=0.0, max=17851512.0), HTML(value='')))"
      ]
     },
     "metadata": {},
     "output_type": "display_data"
    },
    {
     "name": "stdout",
     "output_type": "stream",
     "text": [
      "\n",
      "harry           potter         \t    103287\n",
      "draco           malfoy         \t     39798\n",
      "severus         snape          \t     26434\n",
      "granger         hermione       \t     25034\n",
      "james           potter         \t     23404\n",
      "black           sirius         \t     22453\n",
      "lord            voldemort      \t     21943\n",
      "lucius          malfoy         \t     20900\n",
      "albus           dumbledore     \t     18886\n",
      "riddle          tom            \t     15335\n"
     ]
    }
   ],
   "source": [
    "# Top-10 frequent (Name, Surname) pairs\n",
    "# Took (Name, Surname) pairs from https://en.wikipedia.org/wiki/List_of_Harry_Potter_characters\n",
    "full_names = [\n",
    "    \"Hannah Abbott\", \"Ludo Bagman\", \"Bathilda Bagshot\", \"Katie Bell\", \"Cuthbert Binns\",\n",
    "    \"Sirius Black\", \"Amelia Bones\", \"Susan Bones\", \"Terry Boot\", \"Lavender Brown\",\n",
    "    \"Millicent Bulstrode\", \"Charity Burbage\", \"Frank Bryce\", \"Alecto Carrow\",\n",
    "    \"Amycus Carrow\", \"Reginald Cattermole\", \"Mary Cattermole\", \"Cho Chang\",\n",
    "    \"Penelope Clearwater\", \"Michael Corner\", \"Vincent Crabbe\", \"Colin Creevey\",\n",
    "    \"Dennis Creevey\", \"Dirk Cresswell\", \"Barty Crouch\", \"Roger Davies\", \"John Dawlish\",\n",
    "    \"Fleur Delacour\", \"Gabrielle Delacour\", \"Dedalus Diggle\", \"Amos Diggory\", \"Cedric Diggory\",\n",
    "    \"Elphias Doge\", \"Antonin Dolohov\", \"Aberforth Dumbledore\", \"Albus Dumbledore\",\n",
    "    \"Ariana Dumbledore\", \"Kendra Dumbledore\", \"Percival Dumbledore\", \"Dudley Dursley\",\n",
    "    \"Marge Dursley\", \"Petunia Dursley\", \"Vernon Dursley\", \"Marietta Edgecombe\", \"Arabella Figg\",\n",
    "    \"Argus Filch\", \"Justin Finch-Fletchley\", \"Seamus Finnigan\", \"Marcus Flint\",\n",
    "    \"Mundungus Fletcher\", \"Filius Flitwick\", \"Florean Fortescue\", \"Cornelius Fudge\",\n",
    "    \"Marvolo Gaunt\", \"Merope Gaunt\", \"Morfin Gaunt\", \"Anthony Goldstein\", \"Gregory Goyle\",\n",
    "    \"Hermione Granger\", \"Gregorovitch\", \"Fenrir Greyback\", \"Gellert Grindelwald\",\n",
    "    \"Wilhelmina Grubbly-Plank\", \"Rubeus Hagrid\", \"Rolanda Hooch\", \"Mafalda Hopkirk\",\n",
    "    \"Angelina Johnson\", \"Lee Jordan\", \"Igor Karkaroff\", \"Viktor Krum\", \"Silvanus Kettleburn\",\n",
    "    \"Bellatrix Lestrange\", \"Rabastan Lestrange\", \"Rodolphus Lestrange\", \"Gilderoy Lockhart\",\n",
    "    \"Alice Longbottom\", \"Frank Longbottom\", \"Augusta Longbottom\", \"Neville Longbottom\",\n",
    "    \"Luna Lovegood\", \"Xenophilius Lovegood\", \"Remus Lupin\", \"Teddy Lupin\", \"Walden Macnair\",\n",
    "    \"Draco Malfoy\", \"Lucius Malfoy\", \"Narcissa Malfoy\", \"Scorpius Malfoy\", \"Madam Malkin\",\n",
    "    \"Griselda Marchbanks\", \"Olympe Maxime\", \"Ernie Macmillan\", \"Minerva McGonagall\",\n",
    "    \"Cormac McLaggen\", \"Graham Montague\", \"Alastor Moody\", \"Theodore Nott\", \"Bob Ogden\",\n",
    "    \"Garrick Ollivander\", \"Pansy Parkinson\", \"Padma Patil\", \"Parvati Patil\", \"Peter Pettigrew\",\n",
    "    \"Antioch Peverell\", \"Cadmus Peverell\", \"Ignotus Peverell\", \"Irma Pince\", \"Sturgis Podmore\",\n",
    "    \"Poppy Pomfrey\", \"Harry Potter\", \"James Potter\", \"Lily Potter\", \"Lily Potter\",\n",
    "    \"Quirinus Quirrell\", \"Helena Ravenclaw\", \"Mary Riddle\", \"Thomas Riddle\", \"Tom Riddle\",\n",
    "    \"Demelza Robins\", \"Augustus Rookwood\", \"Thorfinn Rowle\", \"Albert Runcorn\", \"Newt Scamander\",\n",
    "    \"Rufus Scrimgeour\", \"Kingsley Shacklebolt\", \"Stan Shunpike\", \"Aurora Sinistra\",\n",
    "    \"Rita Skeeter\", \"Horace Slughorn\", \"Salazar Slytherin\", \"Zacharias Smith\", \"Severus Snape\",\n",
    "    \"Alicia Spinnet\", \"Pomona Sprout\", \"Pius Thicknesse\", \"Dean Thomas\", \"Andromeda Tonks\",\n",
    "    \"Nymphadora Tonks\", \"Ted Tonks\", \"Sybill Trelawney\", \"Wilkie Twycross\", \"Dolores Umbridge\",\n",
    "    \"Emmeline Vance\", \"Romilda Vane\", \"Septima Vector\", \"Lord Voldemort\", \"Myrtle Warren\",\n",
    "    \"Arthur Weasley\", \"Bill Weasley\", \"Charlie Weasley\", \"Fred Weasley\", \"George Weasley\",\n",
    "    \"Ginny Weasley\", \"Hugo Weasley\", \"Molly Weasley\", \"Percy Weasley\", \"Ron Weasley\",\n",
    "    \"Oliver Wood\", \"Rose Weasley\", \"Corban Yaxley\", \"Blaise Zabini\",\n",
    "]\n",
    "full_names = \"\\t\".join(full_names).lower().split(\"\\t\")\n",
    "full_names = [\" \".join(sorted(name.split())) for name in full_names]\n",
    "\n",
    "fd = FreqDist()\n",
    "for sentence in tqdm(corpus):\n",
    "    pairs = [tuple(sorted([sentence[i], sentence[i + 1]])) for i in range(len(sentence) - 1)]\n",
    "    fd.update(pairs)\n",
    "\n",
    "top10fullnames = []\n",
    "for w in fd.most_common(1000):\n",
    "    if len(top10fullnames) == 10:\n",
    "        break\n",
    "    if f\"{w[0][0]} {w[0][1]}\" in full_names:\n",
    "        top10fullnames.append(w)\n",
    "\n",
    "assert len(top10fullnames) == 10\n",
    "for w in top10fullnames:\n",
    "    print(f\"{w[0][0]:15s} {w[0][1]:15s}\\t{w[1]:10d}\")"
   ]
  },
  {
   "cell_type": "code",
   "execution_count": 6,
   "metadata": {},
   "outputs": [
    {
     "data": {
      "application/vnd.jupyter.widget-view+json": {
       "model_id": "ee1e4a50d5fa4c7e933a1e3ab923b443",
       "version_major": 2,
       "version_minor": 0
      },
      "text/plain": [
       "HBox(children=(FloatProgress(value=0.0, max=17851512.0), HTML(value='')))"
      ]
     },
     "metadata": {},
     "output_type": "display_data"
    },
    {
     "name": "stdout",
     "output_type": "stream",
     "text": [
      "\n",
      "professor       snape          \t     35161\n",
      "professor       sprout         \t      5016\n",
      "professor       slughorn       \t      4960\n",
      "professor       trelawney      \t      2679\n",
      "harry           professor      \t      2582\n",
      "professor       umbridge       \t      2302\n",
      "professor       vector         \t      1552\n",
      "professor       quirrell       \t      1470\n",
      "professor       severus        \t      1127\n",
      "hermione        professor      \t      1115\n"
     ]
    }
   ],
   "source": [
    "# Top-10 frequent (Professor, Name/Surname) pairs\n",
    "# Took (Name, Surname) pairs from https://en.wikipedia.org/wiki/List_of_Harry_Potter_characters\n",
    "professor_names = [\n",
    "    \"Hannah Abbott\", \"Ludo Bagman\", \"Bathilda Bagshot\", \"Katie Bell\", \"Cuthbert Binns\",\n",
    "    \"Sirius Black\", \"Amelia Bones\", \"Susan Bones\", \"Terry Boot\", \"Lavender Brown\",\n",
    "    \"Millicent Bulstrode\", \"Charity Burbage\", \"Frank Bryce\", \"Alecto Carrow\",\n",
    "    \"Amycus Carrow\", \"Reginald Cattermole\", \"Mary Cattermole\", \"Cho Chang\",\n",
    "    \"Penelope Clearwater\", \"Michael Corner\", \"Vincent Crabbe\", \"Colin Creevey\",\n",
    "    \"Dennis Creevey\", \"Dirk Cresswell\", \"Barty Crouch\", \"Roger Davies\", \"John Dawlish\",\n",
    "    \"Fleur Delacour\", \"Gabrielle Delacour\", \"Dedalus Diggle\", \"Amos Diggory\", \"Cedric Diggory\",\n",
    "    \"Elphias Doge\", \"Antonin Dolohov\", \"Aberforth Dumbledore\", \"Albus Dumbledore\",\n",
    "    \"Ariana Dumbledore\", \"Kendra Dumbledore\", \"Percival Dumbledore\", \"Dudley Dursley\",\n",
    "    \"Marge Dursley\", \"Petunia Dursley\", \"Vernon Dursley\", \"Marietta Edgecombe\", \"Arabella Figg\",\n",
    "    \"Argus Filch\", \"Justin Finch-Fletchley\", \"Seamus Finnigan\", \"Marcus Flint\",\n",
    "    \"Mundungus Fletcher\", \"Filius Flitwick\", \"Florean Fortescue\", \"Cornelius Fudge\",\n",
    "    \"Marvolo Gaunt\", \"Merope Gaunt\", \"Morfin Gaunt\", \"Anthony Goldstein\", \"Gregory Goyle\",\n",
    "    \"Hermione Granger\", \"Gregorovitch\", \"Fenrir Greyback\", \"Gellert Grindelwald\",\n",
    "    \"Wilhelmina Grubbly-Plank\", \"Rubeus Hagrid\", \"Rolanda Hooch\", \"Mafalda Hopkirk\",\n",
    "    \"Angelina Johnson\", \"Lee Jordan\", \"Igor Karkaroff\", \"Viktor Krum\", \"Silvanus Kettleburn\",\n",
    "    \"Bellatrix Lestrange\", \"Rabastan Lestrange\", \"Rodolphus Lestrange\", \"Gilderoy Lockhart\",\n",
    "    \"Alice Longbottom\", \"Frank Longbottom\", \"Augusta Longbottom\", \"Neville Longbottom\",\n",
    "    \"Luna Lovegood\", \"Xenophilius Lovegood\", \"Remus Lupin\", \"Teddy Lupin\", \"Walden Macnair\",\n",
    "    \"Draco Malfoy\", \"Lucius Malfoy\", \"Narcissa Malfoy\", \"Scorpius Malfoy\", \"Madam Malkin\",\n",
    "    \"Griselda Marchbanks\", \"Olympe Maxime\", \"Ernie Macmillan\", \"Minerva McGonagall\",\n",
    "    \"Cormac McLaggen\", \"Graham Montague\", \"Alastor Moody\", \"Theodore Nott\", \"Bob Ogden\",\n",
    "    \"Garrick Ollivander\", \"Pansy Parkinson\", \"Padma Patil\", \"Parvati Patil\", \"Peter Pettigrew\",\n",
    "    \"Antioch Peverell\", \"Cadmus Peverell\", \"Ignotus Peverell\", \"Irma Pince\", \"Sturgis Podmore\",\n",
    "    \"Poppy Pomfrey\", \"Harry Potter\", \"James Potter\", \"Lily Potter\", \"Lily Potter\",\n",
    "    \"Quirinus Quirrell\", \"Helena Ravenclaw\", \"Mary Riddle\", \"Thomas Riddle\", \"Tom Riddle\",\n",
    "    \"Demelza Robins\", \"Augustus Rookwood\", \"Thorfinn Rowle\", \"Albert Runcorn\", \"Newt Scamander\",\n",
    "    \"Rufus Scrimgeour\", \"Kingsley Shacklebolt\", \"Stan Shunpike\", \"Aurora Sinistra\",\n",
    "    \"Rita Skeeter\", \"Horace Slughorn\", \"Salazar Slytherin\", \"Zacharias Smith\", \"Severus Snape\",\n",
    "    \"Alicia Spinnet\", \"Pomona Sprout\", \"Pius Thicknesse\", \"Dean Thomas\", \"Andromeda Tonks\",\n",
    "    \"Nymphadora Tonks\", \"Ted Tonks\", \"Sybill Trelawney\", \"Wilkie Twycross\", \"Dolores Umbridge\",\n",
    "    \"Emmeline Vance\", \"Romilda Vane\", \"Septima Vector\", \"Lord Voldemort\", \"Myrtle Warren\",\n",
    "    \"Arthur Weasley\", \"Bill Weasley\", \"Charlie Weasley\", \"Fred Weasley\", \"George Weasley\",\n",
    "    \"Ginny Weasley\", \"Hugo Weasley\", \"Molly Weasley\", \"Percy Weasley\", \"Ron Weasley\",\n",
    "    \"Oliver Wood\", \"Rose Weasley\", \"Corban Yaxley\", \"Blaise Zabini\",\n",
    "]\n",
    "professor_names = set(\" \".join(professor_names).lower().split())\n",
    "\n",
    "fd = FreqDist()\n",
    "for sentence in tqdm(corpus):\n",
    "    pairs = [\n",
    "        tuple(sorted([sentence[i], sentence[i + 1]]))\n",
    "        for i in range(len(sentence) - 1)\n",
    "        if \"professor\" in [sentence[i], sentence[i + 1]]\n",
    "    ]\n",
    "    fd.update(pairs)\n",
    "\n",
    "top10professor = []\n",
    "for w in fd.most_common(1000):\n",
    "    if len(top10professor) == 10:\n",
    "        break\n",
    "        \n",
    "    if w[0][0] in names or w[0][1] in professor_names:\n",
    "        top10professor.append(w)\n",
    "\n",
    "assert len(top10professor) == 10\n",
    "for w in top10professor:\n",
    "    print(f\"{w[0][0]:15s} {w[0][1]:15s}\\t{w[1]:10d}\")"
   ]
  },
  {
   "cell_type": "markdown",
   "metadata": {},
   "source": [
    "# Часть 2. Модели представления слов"
   ]
  },
  {
   "cell_type": "code",
   "execution_count": 7,
   "metadata": {},
   "outputs": [
    {
     "data": {
      "text/plain": [
       "(1195468474, 1249682154)"
      ]
     },
     "execution_count": 7,
     "metadata": {},
     "output_type": "execute_result"
    }
   ],
   "source": [
    "# Initilize model, build vocab and train it\n",
    "model = word2vec.Word2Vec(workers=32, size=100, min_count=10, window=5, sample=1e-3)\n",
    "model.build_vocab(corpus)\n",
    "model.train(corpus, total_examples=model.corpus_count, epochs=7)"
   ]
  },
  {
   "cell_type": "code",
   "execution_count": 8,
   "metadata": {},
   "outputs": [
    {
     "name": "stdout",
     "output_type": "stream",
     "text": [
      "[('lager', 0.8671025037765503), ('butterbeer', 0.8425200581550598), ('coke', 0.8336340188980103)]\n",
      "[('despise', 0.781937301158905), ('hates', 0.7341607809066772), ('detest', 0.7032870650291443)]\n"
     ]
    }
   ],
   "source": [
    "# Synonyms\n",
    "print(model.wv.most_similar(\"beer\", topn=3))\n",
    "print(model.wv.most_similar(\"hate\", topn=3))"
   ]
  },
  {
   "cell_type": "code",
   "execution_count": 9,
   "metadata": {},
   "outputs": [
    {
     "name": "stdout",
     "output_type": "stream",
     "text": [
      "[('woman', 0.879643976688385), ('wizard', 0.7745729088783264), ('boy', 0.7383607625961304)]\n",
      "[('witch', 0.799569845199585), ('noblewoman', 0.5840001106262207), ('stunningly', 0.5819244980812073)]\n"
     ]
    }
   ],
   "source": [
    "# Associations\n",
    "print(model.wv.most_similar(positive=[\"man\", \"professor\"], negative=[\"professor\"], topn=3))\n",
    "print(model.wv.most_similar(positive=[\"wizard\", \"woman\", \"girl\"], negative=[\"boy\", \"man\"], topn=3))"
   ]
  },
  {
   "cell_type": "code",
   "execution_count": 14,
   "metadata": {},
   "outputs": [
    {
     "name": "stdout",
     "output_type": "stream",
     "text": [
      "computer\n",
      "table\n"
     ]
    }
   ],
   "source": [
    "# Odd words\n",
    "print(model.wv.doesnt_match([\"wand\", \"broom\", \"stick\", \"computer\"]))\n",
    "print(model.wv.doesnt_match([\"harry\", \"granger\", \"malfoy\", \"table\"]))"
   ]
  },
  {
   "cell_type": "code",
   "execution_count": 11,
   "metadata": {},
   "outputs": [
    {
     "name": "stderr",
     "output_type": "stream",
     "text": [
      "/home/svinkapeppa/.conda/envs/py37/lib/python3.7/site-packages/ipykernel_launcher.py:5: DeprecationWarning: Call to deprecated `__getitem__` (Method will be removed in 4.0.0, use self.wv.__getitem__() instead).\n",
      "  \"\"\"\n"
     ]
    }
   ],
   "source": [
    "# Calculating TSNE projections\n",
    "tsne = TSNE(n_components=2, random_state=42)\n",
    "\n",
    "words = [w[0] for w in top1000frequent]\n",
    "vectors = model[words]\n",
    "projections = tsne.fit_transform(vectors)"
   ]
  },
  {
   "cell_type": "code",
   "execution_count": 12,
   "metadata": {},
   "outputs": [
    {
     "data": {
      "text/html": [
       "\n",
       "    <div class=\"bk-root\">\n",
       "        <a href=\"https://bokeh.pydata.org\" target=\"_blank\" class=\"bk-logo bk-logo-small bk-logo-notebook\"></a>\n",
       "        <span id=\"1001\">Loading BokehJS ...</span>\n",
       "    </div>"
      ]
     },
     "metadata": {},
     "output_type": "display_data"
    },
    {
     "data": {
      "application/javascript": [
       "\n",
       "(function(root) {\n",
       "  function now() {\n",
       "    return new Date();\n",
       "  }\n",
       "\n",
       "  var force = true;\n",
       "\n",
       "  if (typeof root._bokeh_onload_callbacks === \"undefined\" || force === true) {\n",
       "    root._bokeh_onload_callbacks = [];\n",
       "    root._bokeh_is_loading = undefined;\n",
       "  }\n",
       "\n",
       "  var JS_MIME_TYPE = 'application/javascript';\n",
       "  var HTML_MIME_TYPE = 'text/html';\n",
       "  var EXEC_MIME_TYPE = 'application/vnd.bokehjs_exec.v0+json';\n",
       "  var CLASS_NAME = 'output_bokeh rendered_html';\n",
       "\n",
       "  /**\n",
       "   * Render data to the DOM node\n",
       "   */\n",
       "  function render(props, node) {\n",
       "    var script = document.createElement(\"script\");\n",
       "    node.appendChild(script);\n",
       "  }\n",
       "\n",
       "  /**\n",
       "   * Handle when an output is cleared or removed\n",
       "   */\n",
       "  function handleClearOutput(event, handle) {\n",
       "    var cell = handle.cell;\n",
       "\n",
       "    var id = cell.output_area._bokeh_element_id;\n",
       "    var server_id = cell.output_area._bokeh_server_id;\n",
       "    // Clean up Bokeh references\n",
       "    if (id != null && id in Bokeh.index) {\n",
       "      Bokeh.index[id].model.document.clear();\n",
       "      delete Bokeh.index[id];\n",
       "    }\n",
       "\n",
       "    if (server_id !== undefined) {\n",
       "      // Clean up Bokeh references\n",
       "      var cmd = \"from bokeh.io.state import curstate; print(curstate().uuid_to_server['\" + server_id + \"'].get_sessions()[0].document.roots[0]._id)\";\n",
       "      cell.notebook.kernel.execute(cmd, {\n",
       "        iopub: {\n",
       "          output: function(msg) {\n",
       "            var id = msg.content.text.trim();\n",
       "            if (id in Bokeh.index) {\n",
       "              Bokeh.index[id].model.document.clear();\n",
       "              delete Bokeh.index[id];\n",
       "            }\n",
       "          }\n",
       "        }\n",
       "      });\n",
       "      // Destroy server and session\n",
       "      var cmd = \"import bokeh.io.notebook as ion; ion.destroy_server('\" + server_id + \"')\";\n",
       "      cell.notebook.kernel.execute(cmd);\n",
       "    }\n",
       "  }\n",
       "\n",
       "  /**\n",
       "   * Handle when a new output is added\n",
       "   */\n",
       "  function handleAddOutput(event, handle) {\n",
       "    var output_area = handle.output_area;\n",
       "    var output = handle.output;\n",
       "\n",
       "    // limit handleAddOutput to display_data with EXEC_MIME_TYPE content only\n",
       "    if ((output.output_type != \"display_data\") || (!output.data.hasOwnProperty(EXEC_MIME_TYPE))) {\n",
       "      return\n",
       "    }\n",
       "\n",
       "    var toinsert = output_area.element.find(\".\" + CLASS_NAME.split(' ')[0]);\n",
       "\n",
       "    if (output.metadata[EXEC_MIME_TYPE][\"id\"] !== undefined) {\n",
       "      toinsert[toinsert.length - 1].firstChild.textContent = output.data[JS_MIME_TYPE];\n",
       "      // store reference to embed id on output_area\n",
       "      output_area._bokeh_element_id = output.metadata[EXEC_MIME_TYPE][\"id\"];\n",
       "    }\n",
       "    if (output.metadata[EXEC_MIME_TYPE][\"server_id\"] !== undefined) {\n",
       "      var bk_div = document.createElement(\"div\");\n",
       "      bk_div.innerHTML = output.data[HTML_MIME_TYPE];\n",
       "      var script_attrs = bk_div.children[0].attributes;\n",
       "      for (var i = 0; i < script_attrs.length; i++) {\n",
       "        toinsert[toinsert.length - 1].firstChild.setAttribute(script_attrs[i].name, script_attrs[i].value);\n",
       "      }\n",
       "      // store reference to server id on output_area\n",
       "      output_area._bokeh_server_id = output.metadata[EXEC_MIME_TYPE][\"server_id\"];\n",
       "    }\n",
       "  }\n",
       "\n",
       "  function register_renderer(events, OutputArea) {\n",
       "\n",
       "    function append_mime(data, metadata, element) {\n",
       "      // create a DOM node to render to\n",
       "      var toinsert = this.create_output_subarea(\n",
       "        metadata,\n",
       "        CLASS_NAME,\n",
       "        EXEC_MIME_TYPE\n",
       "      );\n",
       "      this.keyboard_manager.register_events(toinsert);\n",
       "      // Render to node\n",
       "      var props = {data: data, metadata: metadata[EXEC_MIME_TYPE]};\n",
       "      render(props, toinsert[toinsert.length - 1]);\n",
       "      element.append(toinsert);\n",
       "      return toinsert\n",
       "    }\n",
       "\n",
       "    /* Handle when an output is cleared or removed */\n",
       "    events.on('clear_output.CodeCell', handleClearOutput);\n",
       "    events.on('delete.Cell', handleClearOutput);\n",
       "\n",
       "    /* Handle when a new output is added */\n",
       "    events.on('output_added.OutputArea', handleAddOutput);\n",
       "\n",
       "    /**\n",
       "     * Register the mime type and append_mime function with output_area\n",
       "     */\n",
       "    OutputArea.prototype.register_mime_type(EXEC_MIME_TYPE, append_mime, {\n",
       "      /* Is output safe? */\n",
       "      safe: true,\n",
       "      /* Index of renderer in `output_area.display_order` */\n",
       "      index: 0\n",
       "    });\n",
       "  }\n",
       "\n",
       "  // register the mime type if in Jupyter Notebook environment and previously unregistered\n",
       "  if (root.Jupyter !== undefined) {\n",
       "    var events = require('base/js/events');\n",
       "    var OutputArea = require('notebook/js/outputarea').OutputArea;\n",
       "\n",
       "    if (OutputArea.prototype.mime_types().indexOf(EXEC_MIME_TYPE) == -1) {\n",
       "      register_renderer(events, OutputArea);\n",
       "    }\n",
       "  }\n",
       "\n",
       "  \n",
       "  if (typeof (root._bokeh_timeout) === \"undefined\" || force === true) {\n",
       "    root._bokeh_timeout = Date.now() + 5000;\n",
       "    root._bokeh_failed_load = false;\n",
       "  }\n",
       "\n",
       "  var NB_LOAD_WARNING = {'data': {'text/html':\n",
       "     \"<div style='background-color: #fdd'>\\n\"+\n",
       "     \"<p>\\n\"+\n",
       "     \"BokehJS does not appear to have successfully loaded. If loading BokehJS from CDN, this \\n\"+\n",
       "     \"may be due to a slow or bad network connection. Possible fixes:\\n\"+\n",
       "     \"</p>\\n\"+\n",
       "     \"<ul>\\n\"+\n",
       "     \"<li>re-rerun `output_notebook()` to attempt to load from CDN again, or</li>\\n\"+\n",
       "     \"<li>use INLINE resources instead, as so:</li>\\n\"+\n",
       "     \"</ul>\\n\"+\n",
       "     \"<code>\\n\"+\n",
       "     \"from bokeh.resources import INLINE\\n\"+\n",
       "     \"output_notebook(resources=INLINE)\\n\"+\n",
       "     \"</code>\\n\"+\n",
       "     \"</div>\"}};\n",
       "\n",
       "  function display_loaded() {\n",
       "    var el = document.getElementById(\"1001\");\n",
       "    if (el != null) {\n",
       "      el.textContent = \"BokehJS is loading...\";\n",
       "    }\n",
       "    if (root.Bokeh !== undefined) {\n",
       "      if (el != null) {\n",
       "        el.textContent = \"BokehJS \" + root.Bokeh.version + \" successfully loaded.\";\n",
       "      }\n",
       "    } else if (Date.now() < root._bokeh_timeout) {\n",
       "      setTimeout(display_loaded, 100)\n",
       "    }\n",
       "  }\n",
       "\n",
       "\n",
       "  function run_callbacks() {\n",
       "    try {\n",
       "      root._bokeh_onload_callbacks.forEach(function(callback) {\n",
       "        if (callback != null)\n",
       "          callback();\n",
       "      });\n",
       "    } finally {\n",
       "      delete root._bokeh_onload_callbacks\n",
       "    }\n",
       "    console.debug(\"Bokeh: all callbacks have finished\");\n",
       "  }\n",
       "\n",
       "  function load_libs(css_urls, js_urls, callback) {\n",
       "    if (css_urls == null) css_urls = [];\n",
       "    if (js_urls == null) js_urls = [];\n",
       "\n",
       "    root._bokeh_onload_callbacks.push(callback);\n",
       "    if (root._bokeh_is_loading > 0) {\n",
       "      console.debug(\"Bokeh: BokehJS is being loaded, scheduling callback at\", now());\n",
       "      return null;\n",
       "    }\n",
       "    if (js_urls == null || js_urls.length === 0) {\n",
       "      run_callbacks();\n",
       "      return null;\n",
       "    }\n",
       "    console.debug(\"Bokeh: BokehJS not loaded, scheduling load and callback at\", now());\n",
       "    root._bokeh_is_loading = css_urls.length + js_urls.length;\n",
       "\n",
       "    function on_load() {\n",
       "      root._bokeh_is_loading--;\n",
       "      if (root._bokeh_is_loading === 0) {\n",
       "        console.debug(\"Bokeh: all BokehJS libraries/stylesheets loaded\");\n",
       "        run_callbacks()\n",
       "      }\n",
       "    }\n",
       "\n",
       "    function on_error() {\n",
       "      console.error(\"failed to load \" + url);\n",
       "    }\n",
       "\n",
       "    for (var i = 0; i < css_urls.length; i++) {\n",
       "      var url = css_urls[i];\n",
       "      const element = document.createElement(\"link\");\n",
       "      element.onload = on_load;\n",
       "      element.onerror = on_error;\n",
       "      element.rel = \"stylesheet\";\n",
       "      element.type = \"text/css\";\n",
       "      element.href = url;\n",
       "      console.debug(\"Bokeh: injecting link tag for BokehJS stylesheet: \", url);\n",
       "      document.body.appendChild(element);\n",
       "    }\n",
       "\n",
       "    for (var i = 0; i < js_urls.length; i++) {\n",
       "      var url = js_urls[i];\n",
       "      var element = document.createElement('script');\n",
       "      element.onload = on_load;\n",
       "      element.onerror = on_error;\n",
       "      element.async = false;\n",
       "      element.src = url;\n",
       "      console.debug(\"Bokeh: injecting script tag for BokehJS library: \", url);\n",
       "      document.head.appendChild(element);\n",
       "    }\n",
       "  };var element = document.getElementById(\"1001\");\n",
       "  if (element == null) {\n",
       "    console.error(\"Bokeh: ERROR: autoload.js configured with elementid '1001' but no matching script tag was found. \")\n",
       "    return false;\n",
       "  }\n",
       "\n",
       "  function inject_raw_css(css) {\n",
       "    const element = document.createElement(\"style\");\n",
       "    element.appendChild(document.createTextNode(css));\n",
       "    document.body.appendChild(element);\n",
       "  }\n",
       "\n",
       "  var js_urls = [\"https://cdn.pydata.org/bokeh/release/bokeh-1.3.4.min.js\", \"https://cdn.pydata.org/bokeh/release/bokeh-widgets-1.3.4.min.js\", \"https://cdn.pydata.org/bokeh/release/bokeh-tables-1.3.4.min.js\", \"https://cdn.pydata.org/bokeh/release/bokeh-gl-1.3.4.min.js\"];\n",
       "  var css_urls = [];\n",
       "\n",
       "  var inline_js = [\n",
       "    function(Bokeh) {\n",
       "      Bokeh.set_log_level(\"info\");\n",
       "    },\n",
       "    \n",
       "    function(Bokeh) {\n",
       "      \n",
       "    },\n",
       "    function(Bokeh) {} // ensure no trailing comma for IE\n",
       "  ];\n",
       "\n",
       "  function run_inline_js() {\n",
       "    \n",
       "    if ((root.Bokeh !== undefined) || (force === true)) {\n",
       "      for (var i = 0; i < inline_js.length; i++) {\n",
       "        inline_js[i].call(root, root.Bokeh);\n",
       "      }if (force === true) {\n",
       "        display_loaded();\n",
       "      }} else if (Date.now() < root._bokeh_timeout) {\n",
       "      setTimeout(run_inline_js, 100);\n",
       "    } else if (!root._bokeh_failed_load) {\n",
       "      console.log(\"Bokeh: BokehJS failed to load within specified timeout.\");\n",
       "      root._bokeh_failed_load = true;\n",
       "    } else if (force !== true) {\n",
       "      var cell = $(document.getElementById(\"1001\")).parents('.cell').data().cell;\n",
       "      cell.output_area.append_execute_result(NB_LOAD_WARNING)\n",
       "    }\n",
       "\n",
       "  }\n",
       "\n",
       "  if (root._bokeh_is_loading === 0) {\n",
       "    console.debug(\"Bokeh: BokehJS loaded, going straight to plotting\");\n",
       "    run_inline_js();\n",
       "  } else {\n",
       "    load_libs(css_urls, js_urls, function() {\n",
       "      console.debug(\"Bokeh: BokehJS plotting callback run at\", now());\n",
       "      run_inline_js();\n",
       "    });\n",
       "  }\n",
       "}(window));"
      ],
      "application/vnd.bokehjs_load.v0+json": "\n(function(root) {\n  function now() {\n    return new Date();\n  }\n\n  var force = true;\n\n  if (typeof root._bokeh_onload_callbacks === \"undefined\" || force === true) {\n    root._bokeh_onload_callbacks = [];\n    root._bokeh_is_loading = undefined;\n  }\n\n  \n\n  \n  if (typeof (root._bokeh_timeout) === \"undefined\" || force === true) {\n    root._bokeh_timeout = Date.now() + 5000;\n    root._bokeh_failed_load = false;\n  }\n\n  var NB_LOAD_WARNING = {'data': {'text/html':\n     \"<div style='background-color: #fdd'>\\n\"+\n     \"<p>\\n\"+\n     \"BokehJS does not appear to have successfully loaded. If loading BokehJS from CDN, this \\n\"+\n     \"may be due to a slow or bad network connection. Possible fixes:\\n\"+\n     \"</p>\\n\"+\n     \"<ul>\\n\"+\n     \"<li>re-rerun `output_notebook()` to attempt to load from CDN again, or</li>\\n\"+\n     \"<li>use INLINE resources instead, as so:</li>\\n\"+\n     \"</ul>\\n\"+\n     \"<code>\\n\"+\n     \"from bokeh.resources import INLINE\\n\"+\n     \"output_notebook(resources=INLINE)\\n\"+\n     \"</code>\\n\"+\n     \"</div>\"}};\n\n  function display_loaded() {\n    var el = document.getElementById(\"1001\");\n    if (el != null) {\n      el.textContent = \"BokehJS is loading...\";\n    }\n    if (root.Bokeh !== undefined) {\n      if (el != null) {\n        el.textContent = \"BokehJS \" + root.Bokeh.version + \" successfully loaded.\";\n      }\n    } else if (Date.now() < root._bokeh_timeout) {\n      setTimeout(display_loaded, 100)\n    }\n  }\n\n\n  function run_callbacks() {\n    try {\n      root._bokeh_onload_callbacks.forEach(function(callback) {\n        if (callback != null)\n          callback();\n      });\n    } finally {\n      delete root._bokeh_onload_callbacks\n    }\n    console.debug(\"Bokeh: all callbacks have finished\");\n  }\n\n  function load_libs(css_urls, js_urls, callback) {\n    if (css_urls == null) css_urls = [];\n    if (js_urls == null) js_urls = [];\n\n    root._bokeh_onload_callbacks.push(callback);\n    if (root._bokeh_is_loading > 0) {\n      console.debug(\"Bokeh: BokehJS is being loaded, scheduling callback at\", now());\n      return null;\n    }\n    if (js_urls == null || js_urls.length === 0) {\n      run_callbacks();\n      return null;\n    }\n    console.debug(\"Bokeh: BokehJS not loaded, scheduling load and callback at\", now());\n    root._bokeh_is_loading = css_urls.length + js_urls.length;\n\n    function on_load() {\n      root._bokeh_is_loading--;\n      if (root._bokeh_is_loading === 0) {\n        console.debug(\"Bokeh: all BokehJS libraries/stylesheets loaded\");\n        run_callbacks()\n      }\n    }\n\n    function on_error() {\n      console.error(\"failed to load \" + url);\n    }\n\n    for (var i = 0; i < css_urls.length; i++) {\n      var url = css_urls[i];\n      const element = document.createElement(\"link\");\n      element.onload = on_load;\n      element.onerror = on_error;\n      element.rel = \"stylesheet\";\n      element.type = \"text/css\";\n      element.href = url;\n      console.debug(\"Bokeh: injecting link tag for BokehJS stylesheet: \", url);\n      document.body.appendChild(element);\n    }\n\n    for (var i = 0; i < js_urls.length; i++) {\n      var url = js_urls[i];\n      var element = document.createElement('script');\n      element.onload = on_load;\n      element.onerror = on_error;\n      element.async = false;\n      element.src = url;\n      console.debug(\"Bokeh: injecting script tag for BokehJS library: \", url);\n      document.head.appendChild(element);\n    }\n  };var element = document.getElementById(\"1001\");\n  if (element == null) {\n    console.error(\"Bokeh: ERROR: autoload.js configured with elementid '1001' but no matching script tag was found. \")\n    return false;\n  }\n\n  function inject_raw_css(css) {\n    const element = document.createElement(\"style\");\n    element.appendChild(document.createTextNode(css));\n    document.body.appendChild(element);\n  }\n\n  var js_urls = [\"https://cdn.pydata.org/bokeh/release/bokeh-1.3.4.min.js\", \"https://cdn.pydata.org/bokeh/release/bokeh-widgets-1.3.4.min.js\", \"https://cdn.pydata.org/bokeh/release/bokeh-tables-1.3.4.min.js\", \"https://cdn.pydata.org/bokeh/release/bokeh-gl-1.3.4.min.js\"];\n  var css_urls = [];\n\n  var inline_js = [\n    function(Bokeh) {\n      Bokeh.set_log_level(\"info\");\n    },\n    \n    function(Bokeh) {\n      \n    },\n    function(Bokeh) {} // ensure no trailing comma for IE\n  ];\n\n  function run_inline_js() {\n    \n    if ((root.Bokeh !== undefined) || (force === true)) {\n      for (var i = 0; i < inline_js.length; i++) {\n        inline_js[i].call(root, root.Bokeh);\n      }if (force === true) {\n        display_loaded();\n      }} else if (Date.now() < root._bokeh_timeout) {\n      setTimeout(run_inline_js, 100);\n    } else if (!root._bokeh_failed_load) {\n      console.log(\"Bokeh: BokehJS failed to load within specified timeout.\");\n      root._bokeh_failed_load = true;\n    } else if (force !== true) {\n      var cell = $(document.getElementById(\"1001\")).parents('.cell').data().cell;\n      cell.output_area.append_execute_result(NB_LOAD_WARNING)\n    }\n\n  }\n\n  if (root._bokeh_is_loading === 0) {\n    console.debug(\"Bokeh: BokehJS loaded, going straight to plotting\");\n    run_inline_js();\n  } else {\n    load_libs(css_urls, js_urls, function() {\n      console.debug(\"Bokeh: BokehJS plotting callback run at\", now());\n      run_inline_js();\n    });\n  }\n}(window));"
     },
     "metadata": {},
     "output_type": "display_data"
    },
    {
     "data": {
      "text/html": [
       "\n",
       "\n",
       "\n",
       "\n",
       "\n",
       "\n",
       "  <div class=\"bk-root\" id=\"06b8d334-ba67-4325-a9ac-7bf436bebf92\" data-root-id=\"1002\"></div>\n"
      ]
     },
     "metadata": {},
     "output_type": "display_data"
    },
    {
     "data": {
      "application/javascript": [
       "(function(root) {\n",
       "  function embed_document(root) {\n",
       "    \n",
       "  var docs_json = {\"6537d069-41df-49d9-9ad1-7faa117b0c8a\":{\"roots\":{\"references\":[{\"attributes\":{\"below\":[{\"id\":\"1013\",\"type\":\"LinearAxis\"}],\"center\":[{\"id\":\"1017\",\"type\":\"Grid\"},{\"id\":\"1022\",\"type\":\"Grid\"},{\"id\":\"1038\",\"type\":\"LabelSet\"}],\"left\":[{\"id\":\"1018\",\"type\":\"LinearAxis\"}],\"renderers\":[{\"id\":\"1036\",\"type\":\"GlyphRenderer\"}],\"title\":{\"id\":\"1003\",\"type\":\"Title\"},\"toolbar\":{\"id\":\"1027\",\"type\":\"Toolbar\"},\"toolbar_location\":\"above\",\"x_range\":{\"id\":\"1005\",\"type\":\"DataRange1d\"},\"x_scale\":{\"id\":\"1009\",\"type\":\"LinearScale\"},\"y_range\":{\"id\":\"1007\",\"type\":\"DataRange1d\"},\"y_scale\":{\"id\":\"1011\",\"type\":\"LinearScale\"}},\"id\":\"1002\",\"subtype\":\"Figure\",\"type\":\"Plot\"},{\"attributes\":{\"text\":\"Projections of top-1000 most frequent words\"},\"id\":\"1003\",\"type\":\"Title\"},{\"attributes\":{},\"id\":\"1009\",\"type\":\"LinearScale\"},{\"attributes\":{},\"id\":\"1044\",\"type\":\"BasicTickFormatter\"},{\"attributes\":{\"source\":{\"id\":\"1032\",\"type\":\"ColumnDataSource\"}},\"id\":\"1037\",\"type\":\"CDSView\"},{\"attributes\":{\"fill_alpha\":{\"value\":0.1},\"fill_color\":{\"value\":\"#1f77b4\"},\"line_alpha\":{\"value\":0.1},\"line_color\":{\"value\":\"#1f77b4\"},\"size\":{\"units\":\"screen\",\"value\":8},\"x\":{\"field\":\"x1\"},\"y\":{\"field\":\"x2\"}},\"id\":\"1035\",\"type\":\"Scatter\"},{\"attributes\":{\"fill_color\":{\"value\":\"#1f77b4\"},\"line_color\":{\"value\":\"#1f77b4\"},\"size\":{\"units\":\"screen\",\"value\":8},\"x\":{\"field\":\"x1\"},\"y\":{\"field\":\"x2\"}},\"id\":\"1034\",\"type\":\"Scatter\"},{\"attributes\":{},\"id\":\"1023\",\"type\":\"PanTool\"},{\"attributes\":{\"callback\":null,\"data\":{\"names\":[\"harry\",\"would\",\"said\",\"hermione\",\"back\",\"one\",\"could\",\"draco\",\"like\",\"eyes\",\"time\",\"around\",\"know\",\"even\",\"ron\",\"looked\",\"get\",\"room\",\"head\",\"face\",\"still\",\"hand\",\"way\",\"well\",\"see\",\"away\",\"two\",\"severus\",\"going\",\"something\",\"snape\",\"ginny\",\"sirius\",\"made\",\"first\",\"much\",\"thought\",\"potter\",\"think\",\"go\",\"look\",\"knew\",\"wand\",\"never\",\"felt\",\"little\",\"turned\",\"dark\",\"took\",\"right\",\"dumbledore\",\"make\",\"though\",\"malfoy\",\"let\",\"door\",\"want\",\"last\",\"looking\",\"james\",\"got\",\"long\",\"really\",\"left\",\"man\",\"voldemort\",\"good\",\"remus\",\"next\",\"take\",\"lily\",\"come\",\"year\",\"us\",\"sure\",\"saw\",\"voice\",\"another\",\"hands\",\"came\",\"death\",\"asked\",\"wanted\",\"people\",\"hair\",\"went\",\"told\",\"moment\",\"day\",\"behind\",\"found\",\"say\",\"enough\",\"house\",\"since\",\"things\",\"seemed\",\"boy\",\"hogwarts\",\"anything\",\"bed\",\"tell\",\"trying\",\"mind\",\"ever\",\"black\",\"years\",\"side\",\"professor\",\"without\",\"need\",\"put\",\"find\",\"started\",\"bit\",\"every\",\"life\",\"night\",\"magic\",\"help\",\"front\",\"small\",\"always\",\"body\",\"might\",\"feel\",\"began\",\"thing\",\"heard\",\"towards\",\"three\",\"sat\",\"walked\",\"place\",\"also\",\"almost\",\"gave\",\"weasley\",\"table\",\"tried\",\"pulled\",\"someone\",\"quickly\",\"love\",\"smile\",\"everyone\",\"finally\",\"arms\",\"nothing\",\"old\",\"stood\",\"father\",\"lord\",\"already\",\"friends\",\"school\",\"best\",\"better\",\"world\",\"many\",\"new\",\"girl\",\"floor\",\"keep\",\"mouth\",\"family\",\"end\",\"open\",\"together\",\"great\",\"able\",\"arm\",\"everything\",\"done\",\"else\",\"making\",\"light\",\"work\",\"lips\",\"later\",\"soon\",\"mother\",\"neville\",\"quite\",\"words\",\"smiled\",\"give\",\"spell\",\"across\",\"feeling\",\"lucius\",\"albus\",\"hard\",\"slowly\",\"getting\",\"nodded\",\"suddenly\",\"second\",\"rather\",\"blood\",\"inside\",\"half\",\"yet\",\"taking\",\"used\",\"far\",\"students\",\"held\",\"seen\",\"friend\",\"muggle\",\"rest\",\"sitting\",\"anyone\",\"least\",\"opened\",\"watched\",\"actually\",\"must\",\"red\",\"onto\",\"oh\",\"yes\",\"name\",\"home\",\"hall\",\"mr\",\"probably\",\"feet\",\"luna\",\"leave\",\"slightly\",\"stop\",\"close\",\"past\",\"along\",\"gryffindor\",\"fact\",\"breath\",\"heart\",\"maybe\",\"part\",\"slytherin\",\"parents\",\"gone\",\"course\",\"pain\",\"stopped\",\"george\",\"use\",\"reached\",\"ministry\",\"book\",\"wizard\",\"chest\",\"rose\",\"standing\",\"set\",\"fingers\",\"morning\",\"happened\",\"needed\",\"chapter\",\"coming\",\"hear\",\"continued\",\"moved\",\"air\",\"shoulder\",\"instead\",\"may\",\"fred\",\"tom\",\"however\",\"decided\",\"magical\",\"try\",\"ground\",\"minutes\",\"young\",\"potions\",\"full\",\"potion\",\"eaters\",\"granger\",\"fell\",\"talk\",\"lot\",\"days\",\"ran\",\"idea\",\"large\",\"kept\",\"several\",\"person\",\"times\",\"called\",\"caught\",\"deep\",\"taken\",\"order\",\"wall\",\"forward\",\"curse\",\"woman\",\"either\",\"replied\",\"tears\",\"read\",\"believe\",\"others\",\"mean\",\"thinking\",\"noticed\",\"mcgonagall\",\"care\",\"kiss\",\"closed\",\"green\",\"alone\",\"eye\",\"happy\",\"office\",\"point\",\"whole\",\"sound\",\"story\",\"robes\",\"holding\",\"stared\",\"ask\",\"outside\",\"chair\",\"son\",\"please\",\"neck\",\"attention\",\"followed\",\"four\",\"tonks\",\"lost\",\"ago\",\"watching\",\"class\",\"hit\",\"given\",\"seeing\",\"shook\",\"fire\",\"talking\",\"leaving\",\"remember\",\"move\",\"cold\",\"skin\",\"reason\",\"kind\",\"top\",\"dead\",\"turning\",\"immediately\",\"word\",\"turn\",\"stepped\",\"stay\",\"completely\",\"bellatrix\",\"nearly\",\"sleep\",\"start\",\"white\",\"bad\",\"different\",\"ready\",\"common\",\"sorry\",\"matter\",\"staring\",\"managed\",\"hope\",\"upon\",\"longer\",\"charm\",\"witch\",\"grabbed\",\"waiting\",\"whispered\",\"closer\",\"sighed\",\"running\",\"raised\",\"hold\",\"brought\",\"quidditch\",\"blaise\",\"child\",\"knowing\",\"cast\",\"realized\",\"castle\",\"sent\",\"saying\",\"hurt\",\"scorpius\",\"lupin\",\"kill\",\"children\",\"giving\",\"spells\",\"less\",\"perhaps\",\"miss\",\"hours\",\"war\",\"water\",\"appeared\",\"headmaster\",\"walking\",\"although\",\"week\",\"master\",\"books\",\"simply\",\"five\",\"finished\",\"laughed\",\"expression\",\"placed\",\"minerva\",\"desk\",\"returned\",\"couple\",\"corner\",\"toward\",\"mrs\",\"question\",\"stairs\",\"understand\",\"chance\",\"known\",\"spoke\",\"pushed\",\"wrong\",\"meant\",\"pansy\",\"girls\",\"brother\",\"gently\",\"thoughts\",\"wizards\",\"boys\",\"met\",\"beside\",\"blue\",\"run\",\"passed\",\"narcissa\",\"show\",\"quietly\",\"silence\",\"surprised\",\"near\",\"become\",\"change\",\"looks\",\"leaned\",\"power\",\"soft\",\"exactly\",\"letter\",\"group\",\"spent\",\"pulling\",\"possible\",\"throat\",\"within\",\"eater\",\"sort\",\"kitchen\",\"answer\",\"fear\",\"today\",\"window\",\"short\",\"legs\",\"molly\",\"whatever\",\"pointed\",\"moving\",\"big\",\"wizarding\",\"thank\",\"true\",\"fight\",\"anyway\",\"speak\",\"shoulders\",\"wait\",\"entire\",\"added\",\"walk\",\"form\",\"killed\",\"shut\",\"sight\",\"mum\",\"stone\",\"softly\",\"barely\",\"hagrid\",\"free\",\"real\",\"kissed\",\"pretty\",\"dinner\",\"dad\",\"shot\",\"seem\",\"bill\",\"stand\",\"living\",\"filled\",\"gaze\",\"call\",\"break\",\"especially\",\"fall\",\"return\",\"case\",\"straight\",\"months\",\"entered\",\"loved\",\"sense\",\"stomach\",\"sit\",\"high\",\"seat\",\"dropped\",\"conversation\",\"hour\",\"watch\",\"meet\",\"using\",\"nice\",\"says\",\"despite\",\"quick\",\"glanced\",\"warm\",\"bring\",\"figure\",\"memory\",\"wrapped\",\"telling\",\"allowed\",\"surprise\",\"clear\",\"cut\",\"step\",\"became\",\"team\",\"rolled\",\"control\",\"working\",\"remembered\",\"answered\",\"fine\",\"reading\",\"sister\",\"empty\",\"older\",\"baby\",\"yeah\",\"nose\",\"certain\",\"quiet\",\"anger\",\"wondered\",\"smiling\",\"weeks\",\"charlie\",\"picked\",\"shaking\",\"late\",\"supposed\",\"christmas\",\"changed\",\"glass\",\"auror\",\"cloak\",\"meeting\",\"happen\",\"wide\",\"threw\",\"ones\",\"peter\",\"food\",\"middle\",\"bloody\",\"arrived\",\"safe\",\"explained\",\"thanks\",\"shirt\",\"muttered\",\"memories\",\"angry\",\"died\",\"forced\",\"cheek\",\"carefully\",\"okay\",\"ten\",\"tone\",\"parchment\",\"elf\",\"headed\",\"led\",\"touch\",\"plan\",\"lay\",\"laugh\",\"silent\",\"clothes\",\"battle\",\"fleur\",\"note\",\"broke\",\"line\",\"clearly\",\"except\",\"breakfast\",\"knows\",\"pale\",\"loud\",\"live\",\"summer\",\"play\",\"piece\",\"tongue\",\"beautiful\",\"information\",\"library\",\"bright\",\"gotten\",\"ear\",\"whether\",\"madam\",\"wife\",\"grin\",\"waited\",\"usual\",\"die\",\"moments\",\"strong\",\"evening\",\"laughing\",\"stupid\",\"owl\",\"cup\",\"covered\",\"percy\",\"finger\",\"none\",\"expected\",\"somehow\",\"riddle\",\"normal\",\"broom\",\"charms\",\"shock\",\"men\",\"worry\",\"third\",\"tea\",\"position\",\"strange\",\"notice\",\"sometimes\",\"wish\",\"apparently\",\"broken\",\"brown\",\"silver\",\"twins\",\"truth\",\"manor\",\"hospital\",\"obviously\",\"pressed\",\"aurors\",\"daughter\",\"familiar\",\"anymore\",\"letting\",\"worked\",\"following\",\"important\",\"often\",\"hell\",\"teddy\",\"guess\",\"bag\",\"direction\",\"seconds\",\"secret\",\"worried\",\"edge\",\"wearing\",\"attack\",\"lifted\",\"worse\",\"lying\",\"pull\",\"flew\",\"grinned\",\"situation\",\"pair\",\"muggles\",\"agreed\",\"job\",\"minute\",\"student\",\"liked\",\"ended\",\"tonight\",\"keeping\",\"minister\",\"daphne\",\"helped\",\"early\",\"self\",\"falling\",\"single\",\"snapped\",\"flying\",\"usually\",\"game\",\"soul\",\"tightly\",\"knees\",\"causing\",\"fast\",\"pocket\",\"afraid\",\"alive\",\"likely\",\"jumped\",\"hot\",\"perfect\",\"pomfrey\",\"trouble\",\"uncle\",\"calm\",\"hoping\",\"certainly\",\"cheeks\",\"catch\",\"trust\",\"fun\",\"six\",\"deal\",\"putting\",\"teeth\",\"easily\",\"beginning\",\"spot\",\"seems\",\"asleep\",\"merlin\",\"questions\",\"earlier\",\"glad\",\"doors\",\"doubt\",\"low\",\"mark\",\"arthur\",\"playing\",\"n\",\"corridor\",\"wondering\",\"dear\",\"train\",\"age\",\"starting\",\"bedroom\",\"save\",\"aware\",\"powerful\",\"force\",\"forest\",\"husband\",\"fighting\",\"future\",\"moody\",\"dress\",\"entrance\",\"ears\",\"sounded\",\"slipped\",\"walls\",\"younger\",\"al\",\"final\",\"lived\",\"hoped\",\"box\",\"ravenclaw\",\"steps\",\"paper\",\"write\",\"azkaban\",\"neither\",\"alley\",\"x\",\"truly\",\"somewhere\",\"makes\",\"hide\",\"easy\",\"killing\",\"asking\",\"foot\",\"hug\",\"tired\",\"present\",\"number\",\"eventually\",\"showed\",\"glance\",\"twenty\",\"blonde\",\"disappeared\",\"follow\",\"means\",\"mirror\",\"breathing\",\"aside\",\"aunt\",\"speaking\",\"leaning\",\"money\",\"ball\",\"wards\",\"kingsley\",\"lip\",\"wands\",\"waist\",\"tower\",\"tomorrow\",\"apart\",\"send\",\"sigh\",\"writing\",\"spend\",\"mad\",\"laughter\",\"beneath\",\"learn\",\"wonder\",\"wanting\",\"offered\",\"bathroom\",\"sudden\",\"handed\",\"caused\",\"crowd\",\"forehead\",\"problem\",\"feelings\",\"couch\",\"heavy\",\"unable\",\"tight\",\"crying\",\"cause\",\"hate\",\"besides\",\"sleeping\",\"explain\",\"haired\",\"dobby\",\"darkness\",\"snake\",\"cry\",\"round\",\"slid\",\"dragon\",\"wants\",\"match\",\"paused\",\"relief\",\"stayed\",\"drew\",\"remained\",\"tree\",\"huge\",\"shop\",\"witches\",\"wing\",\"members\",\"continue\",\"silently\",\"human\",\"cried\",\"kissing\",\"burst\",\"finding\",\"waved\",\"confused\",\"written\",\"bella\",\"admit\",\"tiny\",\"simple\",\"mine\",\"learned\",\"ring\",\"visit\",\"due\",\"classroom\",\"sky\",\"realised\",\"check\",\"lunch\",\"elves\",\"slytherins\",\"party\",\"busy\",\"allow\",\"teacher\",\"shocked\",\"touched\",\"thin\",\"eat\",\"presence\",\"born\",\"joined\",\"join\",\"beyond\",\"floo\",\"grey\",\"hated\",\"relationship\",\"unless\",\"faces\",\"shouted\",\"contact\",\"dressed\",\"reach\",\"settled\",\"evil\",\"sharp\",\"drink\",\"attempt\",\"month\",\"difficult\",\"news\",\"stuck\",\"odd\",\"classes\",\"smirk\",\"lap\",\"leg\",\"opening\",\"crossed\",\"ahead\",\"protect\",\"grew\",\"werewolf\",\"act\",\"portrait\",\"complete\",\"points\",\"hiding\",\"forget\",\"sir\",\"hidden\",\"dean\",\"mate\",\"locked\",\"umbridge\",\"fireplace\",\"seamus\",\"thick\",\"flat\",\"fully\",\"blond\",\"hogsmeade\",\"lead\",\"seven\",\"pushing\",\"smirked\",\"picture\",\"area\",\"noise\",\"obvious\",\"wished\"],\"x1\":{\"__ndarray__\":\"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\",\"dtype\":\"float32\",\"shape\":[1000]},\"x2\":{\"__ndarray__\":\"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\",\"dtype\":\"float32\",\"shape\":[1000]}},\"selected\":{\"id\":\"1046\",\"type\":\"Selection\"},\"selection_policy\":{\"id\":\"1045\",\"type\":\"UnionRenderers\"}},\"id\":\"1032\",\"type\":\"ColumnDataSource\"},{\"attributes\":{\"source\":{\"id\":\"1032\",\"type\":\"ColumnDataSource\"},\"text\":{\"field\":\"names\"},\"text_align\":\"center\",\"text_color\":{\"value\":\"#555555\"},\"text_font_size\":{\"value\":\"8pt\"},\"x\":{\"field\":\"x1\"},\"y\":{\"field\":\"x2\"},\"y_offset\":{\"value\":6}},\"id\":\"1038\",\"type\":\"LabelSet\"},{\"attributes\":{\"callback\":null},\"id\":\"1007\",\"type\":\"DataRange1d\"},{\"attributes\":{},\"id\":\"1011\",\"type\":\"LinearScale\"},{\"attributes\":{\"callback\":null},\"id\":\"1005\",\"type\":\"DataRange1d\"},{\"attributes\":{},\"id\":\"1025\",\"type\":\"ResetTool\"},{\"attributes\":{\"active_drag\":\"auto\",\"active_inspect\":\"auto\",\"active_multi\":null,\"active_scroll\":\"auto\",\"active_tap\":\"auto\",\"tools\":[{\"id\":\"1023\",\"type\":\"PanTool\"},{\"id\":\"1024\",\"type\":\"WheelZoomTool\"},{\"id\":\"1025\",\"type\":\"ResetTool\"},{\"id\":\"1026\",\"type\":\"SaveTool\"}]},\"id\":\"1027\",\"type\":\"Toolbar\"},{\"attributes\":{\"dimension\":1,\"ticker\":{\"id\":\"1019\",\"type\":\"BasicTicker\"}},\"id\":\"1022\",\"type\":\"Grid\"},{\"attributes\":{\"ticker\":{\"id\":\"1014\",\"type\":\"BasicTicker\"}},\"id\":\"1017\",\"type\":\"Grid\"},{\"attributes\":{},\"id\":\"1046\",\"type\":\"Selection\"},{\"attributes\":{\"formatter\":{\"id\":\"1044\",\"type\":\"BasicTickFormatter\"},\"ticker\":{\"id\":\"1014\",\"type\":\"BasicTicker\"}},\"id\":\"1013\",\"type\":\"LinearAxis\"},{\"attributes\":{},\"id\":\"1045\",\"type\":\"UnionRenderers\"},{\"attributes\":{},\"id\":\"1019\",\"type\":\"BasicTicker\"},{\"attributes\":{},\"id\":\"1042\",\"type\":\"BasicTickFormatter\"},{\"attributes\":{\"data_source\":{\"id\":\"1032\",\"type\":\"ColumnDataSource\"},\"glyph\":{\"id\":\"1034\",\"type\":\"Scatter\"},\"hover_glyph\":null,\"muted_glyph\":null,\"nonselection_glyph\":{\"id\":\"1035\",\"type\":\"Scatter\"},\"selection_glyph\":null,\"view\":{\"id\":\"1037\",\"type\":\"CDSView\"}},\"id\":\"1036\",\"type\":\"GlyphRenderer\"},{\"attributes\":{},\"id\":\"1024\",\"type\":\"WheelZoomTool\"},{\"attributes\":{},\"id\":\"1026\",\"type\":\"SaveTool\"},{\"attributes\":{},\"id\":\"1014\",\"type\":\"BasicTicker\"},{\"attributes\":{\"formatter\":{\"id\":\"1042\",\"type\":\"BasicTickFormatter\"},\"ticker\":{\"id\":\"1019\",\"type\":\"BasicTicker\"}},\"id\":\"1018\",\"type\":\"LinearAxis\"}],\"root_ids\":[\"1002\"]},\"title\":\"Bokeh Application\",\"version\":\"1.3.4\"}};\n",
       "  var render_items = [{\"docid\":\"6537d069-41df-49d9-9ad1-7faa117b0c8a\",\"roots\":{\"1002\":\"06b8d334-ba67-4325-a9ac-7bf436bebf92\"}}];\n",
       "  root.Bokeh.embed.embed_items_notebook(docs_json, render_items);\n",
       "\n",
       "  }\n",
       "  if (root.Bokeh !== undefined) {\n",
       "    embed_document(root);\n",
       "  } else {\n",
       "    var attempts = 0;\n",
       "    var timer = setInterval(function(root) {\n",
       "      if (root.Bokeh !== undefined) {\n",
       "        embed_document(root);\n",
       "        clearInterval(timer);\n",
       "      }\n",
       "      attempts++;\n",
       "      if (attempts > 100) {\n",
       "        console.log(\"Bokeh: ERROR: Unable to run BokehJS code because BokehJS library is missing\");\n",
       "        clearInterval(timer);\n",
       "      }\n",
       "    }, 10, root)\n",
       "  }\n",
       "})(window);"
      ],
      "application/vnd.bokehjs_exec.v0+json": ""
     },
     "metadata": {
      "application/vnd.bokehjs_exec.v0+json": {
       "id": "1002"
      }
     },
     "output_type": "display_data"
    }
   ],
   "source": [
    "# Plotting\n",
    "output_notebook()\n",
    "\n",
    "p = figure(tools=\"pan,wheel_zoom,reset,save\", toolbar_location=\"above\",\n",
    "           title=\"Projections of top-1000 most frequent words\")\n",
    "source = ColumnDataSource(data=dict(x1=projections[:,0], x2=projections[:,1], names=words))\n",
    "p.scatter(x=\"x1\", y=\"x2\", size=8, source=source)\n",
    "labels = LabelSet(x=\"x1\", y=\"x2\", text=\"names\", y_offset=6, text_font_size=\"8pt\",\n",
    "                  text_color=\"#555555\", source=source, text_align=\"center\")\n",
    "p.add_layout(labels)\n",
    "\n",
    "show(p)"
   ]
  },
  {
   "cell_type": "markdown",
   "metadata": {},
   "source": [
    "# Часть 3. Классификация текстов"
   ]
  },
  {
   "cell_type": "code",
   "execution_count": 58,
   "metadata": {},
   "outputs": [],
   "source": [
    "columns = [\"id\", \"class\", \"text\"]\n",
    "\n",
    "train = pd.read_csv(\"/mnt/hdd1/users/svinkapeppa/hpac/data/splits/hpac_training_128.tsv\", names=columns, sep=\"\\t\")\n",
    "dev = pd.read_csv(\"/mnt/hdd1/users/svinkapeppa/hpac/data/splits/hpac_dev_128.tsv\", names=columns, sep=\"\\t\")\n",
    "test = pd.read_csv(\"/mnt/hdd1/users/svinkapeppa/hpac/data/splits/hpac_test_128.tsv\", names=columns, sep=\"\\t\")\n",
    "\n",
    "train = train.drop(\"id\", axis=1)\n",
    "dev = dev.drop(\"id\", axis=1)\n",
    "test = test.drop(\"id\", axis=1)"
   ]
  },
  {
   "cell_type": "code",
   "execution_count": 59,
   "metadata": {},
   "outputs": [],
   "source": [
    "def preprocess(dataframe):\n",
    "    stop_words = stopwords.words(\"english\")\n",
    "    dataframe[\"text\"] = dataframe[\"text\"].apply(lambda x: x.lower())\n",
    "    dataframe[\"text\"] = dataframe[\"text\"].apply(lambda x: re.sub(\"\\W+\", \" \", x))\n",
    "    dataframe[\"class\"] = \"__label__\" + dataframe[\"class\"]\n",
    "    \n",
    "    return dataframe"
   ]
  },
  {
   "cell_type": "code",
   "execution_count": 60,
   "metadata": {},
   "outputs": [],
   "source": [
    "train = preprocess(train)\n",
    "dev = preprocess(dev)\n",
    "test = preprocess(test)"
   ]
  },
  {
   "cell_type": "code",
   "execution_count": 64,
   "metadata": {},
   "outputs": [
    {
     "name": "stdout",
     "output_type": "stream",
     "text": [
      "0.10760991986106269\n",
      "AVADA_KEDAVRA       \t 7491\t0.296\n",
      "CRUCIO              \t 7378\t0.163\n",
      "ACCIO               \t 4168\t0.349\n",
      "LUMOS               \t 3894\t0.000\n",
      "STUPEFY             \t 3326\t0.000\n",
      "OBLIVIATE           \t 2891\t0.430\n",
      "EXPELLIARMUS        \t 2728\t0.000\n",
      "LEGILIMENS          \t 1725\t0.000\n",
      "EXPECTO_PATRONUM    \t 1657\t0.085\n",
      "SECTUMSEMPRA        \t 1458\t0.000\n",
      "PROTEGO             \t 1396\t0.000\n",
      "ALOHOMORA           \t 1263\t0.426\n",
      "SCOURGIFY           \t 1244\t0.000\n",
      "INCENDIO            \t 1238\t0.250\n",
      "IMPERIO             \t 1180\t0.000\n",
      "WINGARDIUM_LEVIOSA  \t 1178\t0.000\n",
      "REDUCTO             \t 1159\t0.000\n",
      "PETRIFICUS_TOTALUS  \t 1134\t0.062\n",
      "SILENCIO            \t 1056\t0.000\n",
      "REPARO              \t 1036\t0.075\n",
      "MUFFLIATO           \t  923\t0.242\n",
      "AGUAMENTI           \t  746\t0.000\n",
      "FINITE_INCANTATEM   \t  644\t0.128\n",
      "NOX                 \t  638\t0.509\n",
      "RIDDIKULUS          \t  616\t0.174\n",
      "INCARCEROUS         \t  606\t0.000\n",
      "DIFFINDO            \t  491\t0.000\n",
      "IMPEDIMENTA         \t  491\t0.078\n",
      "LEVICORPUS          \t  488\t0.000\n",
      "EVANESCO            \t  459\t0.000\n",
      "SONORUS             \t  410\t0.000\n",
      "POINT_ME            \t  388\t0.000\n",
      "EPISKEY             \t  368\t0.000\n",
      "ENGORGIO            \t  315\t0.024\n",
      "CONFRINGO           \t  314\t0.122\n",
      "COLLOPORTUS         \t  246\t0.000\n",
      "PORTUS              \t  222\t0.051\n",
      "TERGEO              \t  216\t0.165\n",
      "RENNERVATE          \t  212\t0.000\n",
      "MORSMORDRE          \t  206\t0.396\n",
      "MOBILICORPUS        \t  167\t0.144\n",
      "HOMENUM_REVELIO     \t  167\t0.000\n",
      "EXPULSO             \t  166\t0.000\n",
      "LOCOMOTOR           \t  165\t0.000\n",
      "RELASHIO            \t  153\t0.400\n",
      "RICTUSEMPRA         \t  152\t0.000\n",
      "AVIS                \t  150\t0.000\n",
      "IMPERVIUS           \t  138\t0.000\n",
      "OPPUGNO             \t  133\t0.200\n",
      "FURNUNCULUS         \t  130\t0.142\n",
      "TARANTALLEGRA       \t  120\t0.177\n",
      "LOCOMOTOR_MORTIS    \t  116\t0.341\n",
      "SERPENSORTIA        \t  115\t0.000\n",
      "CONFUNDO            \t  112\t0.500\n",
      "REDUCIO             \t  104\t0.000\n",
      "QUIETUS             \t  104\t0.073\n",
      "LANGLOCK            \t   79\t0.000\n",
      "GEMINIO             \t   75\t0.280\n",
      "FERULA              \t   74\t0.080\n",
      "ORCHIDEOUS          \t   72\t0.000\n",
      "DENSAUGEO           \t   64\t0.120\n",
      "ANAPNEO             \t   59\t0.000\n",
      "APARECIUM           \t   57\t0.000\n",
      "DELETRIUS           \t   56\t0.000\n",
      "LIBERACORPUS        \t   54\t0.000\n",
      "OBSCURO             \t   54\t0.110\n",
      "DEPRIMO             \t   50\t0.000\n",
      "FLAGRATE            \t   49\t0.114\n",
      "PRIOR_INCANTATO     \t   49\t0.288\n",
      "WADDIWASI           \t   44\t0.000\n",
      "SPECIALIS_REVELIO   \t   42\t0.000\n",
      "PROTEGO_TOTALUM     \t   37\t0.675\n",
      "DURO                \t   33\t0.000\n",
      "SALVIO_HEXIA        \t   31\t0.342\n",
      "DEFODIO             \t   30\t0.168\n",
      "PIERTOTUM_LOCOMOTOR \t   27\t0.000\n",
      "MOBILIARBUS         \t   24\t0.102\n",
      "GLISSEO             \t   24\t0.309\n",
      "ERECTO              \t   23\t0.000\n",
      "REPELLO_MUGGLETUM   \t   20\t0.180\n",
      "DESCENDO            \t   17\t0.000\n",
      "CAVE_INIMICUM       \t   16\t0.000\n",
      "PROTEGO_HORRIBILIS  \t   15\t0.000\n",
      "METEOLOJINX_RECANTO \t   10\t0.267\n"
     ]
    }
   ],
   "source": [
    "# FastText baseline\n",
    "train.to_csv(\"/mnt/hdd1/users/svinkapeppa/hpac/data/splits/train.txt\", sep=\" \", index=False, header=False)\n",
    "\n",
    "best_model = None\n",
    "max_score = 0\n",
    "for epoch in tqdm([10, 20, 30, 40, 50]):\n",
    "    model = fasttext.supervised(\"/mnt/hdd1/users/svinkapeppa/hpac/data/splits/train.txt\",\n",
    "                                \"model\", dim=300, min_count=5, epoch=epoch)\n",
    "\n",
    "    pred_class = model.predict(list(dev[\"text\"]))\n",
    "    true_class = dev[\"class\"].apply(lambda x: x[9:])\n",
    "\n",
    "    score = f1_score(true_class, pred_class, average=\"macro\")\n",
    "    if score > max_score:\n",
    "        best_model = model\n",
    "        max_score = score\n",
    "\n",
    "pred_class = model.predict(list(test[\"text\"]))\n",
    "true_class = test[\"class\"].apply(lambda x: x[9:])\n",
    "\n",
    "print(f1_score(true_class, pred_class, average=\"macro\"))\n",
    "\n",
    "scores = f1_score(true_class, pred_class, average=None)\n",
    "for i in range(len(scores)):\n",
    "    label = model.labels[i]\n",
    "    count = train[train[\"class\"] == f\"__label__{label}\"].shape[0]\n",
    "    score = scores[i]\n",
    "    print(f\"{label:20s}\\t{count:5d}\\t{score:.3f}\")"
   ]
  },
  {
   "cell_type": "code",
   "execution_count": 65,
   "metadata": {},
   "outputs": [],
   "source": [
    "# Augmentation\n",
    "def augment(dataframe):\n",
    "    augmented = []\n",
    "\n",
    "    for idx, row in tqdm(dataframe.iterrows(), total=dataframe.shape[0]):\n",
    "        if idx % 2 == 0:\n",
    "            label = row[\"class\"]\n",
    "            text = row[\"text\"]\n",
    "            for i in range(len(text)):\n",
    "                try:\n",
    "                    text[i] = wn.synsets(word)[1].lemmas()[-1].name()\n",
    "                except Exception as e:\n",
    "                    continue\n",
    "            augmented.append([label, text])\n",
    "    \n",
    "    augmented = pd.DataFrame(augmented, columns=columns[1:])\n",
    "    return pd.concat([dataframe, augmented])"
   ]
  },
  {
   "cell_type": "code",
   "execution_count": 66,
   "metadata": {},
   "outputs": [
    {
     "data": {
      "application/vnd.jupyter.widget-view+json": {
       "model_id": "383a075d651448ceb8a556ba13ff3a79",
       "version_major": 2,
       "version_minor": 0
      },
      "text/plain": [
       "HBox(children=(FloatProgress(value=0.0, max=60980.0), HTML(value='')))"
      ]
     },
     "metadata": {},
     "output_type": "display_data"
    },
    {
     "name": "stdout",
     "output_type": "stream",
     "text": [
      "\n"
     ]
    }
   ],
   "source": [
    "train = augment(train)\n",
    "train.to_csv(\"/mnt/hdd1/users/svinkapeppa/hpac/data/splits/train.txt\", sep=\" \", index=False, header=False)"
   ]
  },
  {
   "cell_type": "code",
   "execution_count": 67,
   "metadata": {},
   "outputs": [
    {
     "data": {
      "application/vnd.jupyter.widget-view+json": {
       "model_id": "ce17f056b19647fab0f0e45654b6ce5d",
       "version_major": 2,
       "version_minor": 0
      },
      "text/plain": [
       "HBox(children=(FloatProgress(value=0.0, max=5.0), HTML(value='')))"
      ]
     },
     "metadata": {},
     "output_type": "display_data"
    },
    {
     "name": "stdout",
     "output_type": "stream",
     "text": [
      "\n",
      "0.11254685376824754\n",
      "AVADA_KEDAVRA       \t11275\t0.290\n",
      "CRUCIO              \t11019\t0.157\n",
      "ACCIO               \t 6183\t0.373\n",
      "LUMOS               \t 5826\t0.000\n",
      "STUPEFY             \t 5022\t0.000\n",
      "OBLIVIATE           \t 4327\t0.411\n",
      "EXPELLIARMUS        \t 4093\t0.150\n",
      "LEGILIMENS          \t 2582\t0.000\n",
      "EXPECTO_PATRONUM    \t 2519\t0.078\n",
      "SECTUMSEMPRA        \t 2204\t0.000\n",
      "PROTEGO             \t 2111\t0.095\n",
      "ALOHOMORA           \t 1887\t0.417\n",
      "SCOURGIFY           \t 1863\t0.000\n",
      "INCENDIO            \t 1833\t0.250\n",
      "IMPERIO             \t 1789\t0.000\n",
      "REDUCTO             \t 1737\t0.000\n",
      "WINGARDIUM_LEVIOSA  \t 1731\t0.000\n",
      "PETRIFICUS_TOTALUS  \t 1694\t0.126\n",
      "SILENCIO            \t 1600\t0.000\n",
      "REPARO              \t 1565\t0.118\n",
      "MUFFLIATO           \t 1391\t0.198\n",
      "AGUAMENTI           \t 1134\t0.000\n",
      "FINITE_INCANTATEM   \t 1008\t0.086\n",
      "NOX                 \t  943\t0.497\n",
      "RIDDIKULUS          \t  933\t0.156\n",
      "INCARCEROUS         \t  909\t0.000\n",
      "IMPEDIMENTA         \t  753\t0.000\n",
      "DIFFINDO            \t  749\t0.070\n",
      "LEVICORPUS          \t  733\t0.000\n",
      "EVANESCO            \t  689\t0.000\n",
      "SONORUS             \t  612\t0.000\n",
      "POINT_ME            \t  588\t0.000\n",
      "EPISKEY             \t  541\t0.000\n",
      "CONFRINGO           \t  479\t0.037\n",
      "ENGORGIO            \t  463\t0.107\n",
      "COLLOPORTUS         \t  368\t0.000\n",
      "PORTUS              \t  329\t0.046\n",
      "TERGEO              \t  329\t0.177\n",
      "RENNERVATE          \t  317\t0.000\n",
      "MORSMORDRE          \t  316\t0.350\n",
      "MOBILICORPUS        \t  258\t0.090\n",
      "LOCOMOTOR           \t  247\t0.000\n",
      "EXPULSO             \t  245\t0.118\n",
      "HOMENUM_REVELIO     \t  241\t0.118\n",
      "RELASHIO            \t  233\t0.395\n",
      "RICTUSEMPRA         \t  228\t0.000\n",
      "AVIS                \t  219\t0.000\n",
      "IMPERVIUS           \t  201\t0.087\n",
      "OPPUGNO             \t  199\t0.237\n",
      "FURNUNCULUS         \t  192\t0.160\n",
      "TARANTALLEGRA       \t  182\t0.127\n",
      "LOCOMOTOR_MORTIS    \t  180\t0.294\n",
      "SERPENSORTIA        \t  175\t0.000\n",
      "CONFUNDO            \t  168\t0.364\n",
      "REDUCIO             \t  158\t0.333\n",
      "QUIETUS             \t  150\t0.080\n",
      "LANGLOCK            \t  124\t0.000\n",
      "GEMINIO             \t  109\t0.236\n",
      "FERULA              \t  106\t0.000\n",
      "ORCHIDEOUS          \t  104\t0.000\n",
      "DENSAUGEO           \t   96\t0.124\n",
      "ANAPNEO             \t   90\t0.000\n",
      "LIBERACORPUS        \t   84\t0.000\n",
      "DELETRIUS           \t   83\t0.000\n",
      "APARECIUM           \t   81\t0.000\n",
      "OBSCURO             \t   77\t0.151\n",
      "PRIOR_INCANTATO     \t   76\t0.000\n",
      "FLAGRATE            \t   70\t0.204\n",
      "DEPRIMO             \t   70\t0.259\n",
      "WADDIWASI           \t   65\t0.000\n",
      "SPECIALIS_REVELIO   \t   63\t0.000\n",
      "PROTEGO_TOTALUM     \t   54\t0.645\n",
      "DURO                \t   49\t0.000\n",
      "DEFODIO             \t   46\t0.299\n",
      "SALVIO_HEXIA        \t   43\t0.124\n",
      "PIERTOTUM_LOCOMOTOR \t   42\t0.000\n",
      "ERECTO              \t   39\t0.111\n",
      "GLISSEO             \t   34\t0.306\n",
      "MOBILIARBUS         \t   31\t0.000\n",
      "REPELLO_MUGGLETUM   \t   29\t0.174\n",
      "PROTEGO_HORRIBILIS  \t   22\t0.000\n",
      "DESCENDO            \t   22\t0.000\n",
      "CAVE_INIMICUM       \t   21\t0.000\n",
      "METEOLOJINX_RECANTO \t   14\t0.230\n"
     ]
    }
   ],
   "source": [
    "best_model = None\n",
    "max_score = 0\n",
    "for epoch in tqdm([10, 20, 30, 40, 50]):\n",
    "    model = fasttext.supervised(\"/mnt/hdd1/users/svinkapeppa/hpac/data/splits/train.txt\",\n",
    "                                \"model\", dim=300, min_count=5, epoch=epoch)\n",
    "\n",
    "    pred_class = model.predict(list(dev[\"text\"]))\n",
    "    true_class = dev[\"class\"].apply(lambda x: x[9:])\n",
    "\n",
    "    score = f1_score(true_class, pred_class, average=\"macro\")\n",
    "    if score > max_score:\n",
    "        best_model = model\n",
    "        max_score = score\n",
    "\n",
    "pred_class = model.predict(list(test[\"text\"]))\n",
    "true_class = test[\"class\"].apply(lambda x: x[9:])\n",
    "\n",
    "print(f1_score(true_class, pred_class, average=\"macro\"))\n",
    "\n",
    "scores = f1_score(true_class, pred_class, average=None)\n",
    "for i in range(len(scores)):\n",
    "    label = model.labels[i]\n",
    "    count = train[train[\"class\"] == f\"__label__{label}\"].shape[0]\n",
    "    score = scores[i]\n",
    "    print(f\"{label:20s}\\t{count:5d}\\t{score:.3f}\")"
   ]
  },
  {
   "cell_type": "markdown",
   "metadata": {},
   "source": [
    "# Часть 4. Итоги\n",
    "\n",
    "## Эксплоративный анализ\n",
    "\n",
    "1. Я работал с сырыми текстами. В самом начале сделал простейшую обработку: убрал пунктуацию, привел слова к нижнему регистру и токенизировал предложения.\n",
    "2. Подсчет топ-1000 слов был тривиален. Топ-10 из списка получился осмысленный: имена популярных героев + `said` (наверное, фанфики пишут люди, которые не очень сильно думают о том, чтобы использовать другие слова кроме `said`, чтобы вводить прямую речь).\n",
    "3. Подсчет имен я хотел делать по-серьезному -- использовать NER-теггер. Я попробовал `spacy` и вышло очень плохо: имена почти что не распознавались, а обработка всего датасета занимала примерно 55 часов. Вместо этого я взял список имен из Интернета, прошелся по самым популярным словам, посчитаным ранее, и взял те, которые точно были именами. Результаты нормальные: Гарри и Гермиона впереди с отрывом.\n",
    "4. Подсчет пар (Имя, Фамилия) решил делать примерно так же, только в этот раз брал уже биграмы. Результаты получились нормальные: в топе только популярные персонажи.\n",
    "5. Подсчет пар (Профессор, Имя/Фамилия) сделал как (Имя, Фамилия), только чуть-чуть упростил: сразу искал в тех предложениях, где было слово \"профессор\". Результаты меня удивили: я думал, что в топе будет профессор МакГонагалл.\n",
    "\n",
    "## Модели представления слов\n",
    "\n",
    "1. Решил обучать `word2vec`, потому что с `fasttext` у меня были проблемы с установкой (см. ниже).\n",
    "2. Обучение довольно долгое (корпус ~22кк). Подождал 7 эпох и решил, что хватит. По примерам синонимов, аналогий, лишних слов и визуализации видим, что 7 эпох в целом не плохо, но можно и лучше.\n",
    "3. В визуализации заметно, что появились кластеры: \"цифры\", \"факультеты\", \"персонажи\" и др.\n",
    "\n",
    "## Классификация текста\n",
    "\n",
    "1. `fasttext` 0.9.1 поставить не получилось, поэтому взял 0.8.4. В нем другой интерфейс, но в целом работает.\n",
    "2. Если просто обучить `fasttext`, то получим небольшой `macro F1-score` -- всего 10%.\n",
    "3. Если добавить аугментацию синонимами, то качество увеличивается, но не сильно -- 11%.\n",
    "4. Выделить какую-то закономерность в том, как хорошо происходит классификация и количеством классов не получается: бывают популярные заклинания с качеством 0, а бывают совсем непопулярные с высоким качеством."
   ]
  },
  {
   "cell_type": "code",
   "execution_count": null,
   "metadata": {},
   "outputs": [],
   "source": []
  }
 ],
 "metadata": {
  "kernelspec": {
   "display_name": "Python 3",
   "language": "python",
   "name": "python3"
  },
  "language_info": {
   "codemirror_mode": {
    "name": "ipython",
    "version": 3
   },
   "file_extension": ".py",
   "mimetype": "text/x-python",
   "name": "python",
   "nbconvert_exporter": "python",
   "pygments_lexer": "ipython3",
   "version": "3.7.4"
  }
 },
 "nbformat": 4,
 "nbformat_minor": 2
}
